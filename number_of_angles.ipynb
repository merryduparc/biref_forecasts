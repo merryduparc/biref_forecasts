{
 "cells": [
  {
   "cell_type": "code",
   "execution_count": 4,
   "metadata": {},
   "outputs": [],
   "source": [
    "from biref_forecasts.biref_fisher_class import FisherBiref\n",
    "from pspy import so_dict\n",
    "import numpy as np\n",
    "from math import pi\n",
    "from copy import deepcopy\n",
    "from matplotlib import pyplot as plt\n",
    "import matplotlib as mpl\n",
    "import random\n",
    "\n",
    "mpl.rcParams['lines.linewidth'] = 1.5\n",
    "mpl.rcParams['lines.markersize'] = 5\n",
    "mpl.rcParams['lines.markeredgewidth'] = 1.5\n",
    "\n",
    "# print(mpl.rcParams.keys())"
   ]
  },
  {
   "cell_type": "code",
   "execution_count": 6,
   "metadata": {},
   "outputs": [],
   "source": [
    "### Planck\n",
    "args_1s = so_dict.so_dict()\n",
    "args_1s.read_from_file('paramfiles/Planck_HFI_args.dict')\n",
    "args_1s['fsky'] = 0.92\n",
    "args_1s['amp_dust'] = [6. for _ in args_1s['splits']]\n",
    "args_1a = deepcopy(args_1s)\n",
    "args_1a['alphas_mapping'] = [0, 0, 0, 0]\n",
    "\n",
    "args_2s = so_dict.so_dict()\n",
    "args_2s.read_from_file('paramfiles/Planck_HFI_args.dict')\n",
    "args_2s['splits'] = [split+s for split in args_1s['splits'] for s in ['A', 'B']]\n",
    "args_2s['nu_GHzs'] = [freq for freq in args_1s['nu_GHzs'] for s in ['A', 'B']]\n",
    "args_2s['Nls_filenames'] = [filename for filename in args_1s['Nls_filenames'] for s in ['A', 'B']]\n",
    "args_2s['Nls_factor'] = 2\n",
    "args_2s['fsky'] = 0.92\n",
    "args_2s['amp_dust'] = [6. for _ in args_2s['splits']]\n",
    "args_2s2 = deepcopy(args_2s)\n",
    "args_2s2['alphas_mapping'] = [0, 0, 1, 1, 2, 2, 3, 3]\n",
    "args_2s1a = deepcopy(args_2s)\n",
    "args_2s1a['alphas_mapping'] = [0, 0, 0, 0, 0, 0, 0, 0]\n",
    "\n",
    "args_dict = {\n",
    "    '1split': args_1s,\n",
    "    '1angle': args_1a,\n",
    "    '2split': args_2s,\n",
    "    # '2split2': args_2s2,\n",
    "    '2split 1angle': args_2s1a,\n",
    "}\n",
    "\n",
    "if False:\n",
    "    for args in args_dict.values():\n",
    "        args['nu_GHzs'] = [200 for _ in args['splits']]"
   ]
  },
  {
   "cell_type": "code",
   "execution_count": 7,
   "metadata": {},
   "outputs": [
    {
     "name": "stderr",
     "output_type": "stream",
     "text": [
      "/Users/duparc/Desktop/Stage_M2/codes/biref_forecasts/functions/foregrounds.py:86: RuntimeWarning: divide by zero encountered in power\n",
      "  return ((ls / 500) ** (alpha + 2)) / fac\n"
     ]
    },
    {
     "data": {
      "text/plain": [
       "{'1split': array([0.11191861, 0.13603795, 0.10349096, 0.09348904, 0.09157124]),\n",
       " '1angle': array([0.10442858, 0.09106942]),\n",
       " '2split': array([0.11191861, 0.16188698, 0.16188698, 0.11019645, 0.11019645,\n",
       "        0.09670336, 0.09670336, 0.09274869, 0.09274869]),\n",
       " '2split 1angle': array([0.10442858, 0.09106942]),\n",
       " '1split eff': array([0.10442858, 0.09106942])}"
      ]
     },
     "execution_count": 7,
     "metadata": {},
     "output_type": "execute_result"
    }
   ],
   "source": [
    "fisher_dict = {name: FisherBiref(**args).fisher() for name, args in args_dict.items()}\n",
    "alpha_bias_dict = {name: FisherBiref(**args).bias()['a'] for name, args in args_dict.items()}\n",
    "beta_bias_dict = {name: FisherBiref(**args).bias()['b'] for name, args in args_dict.items()}\n",
    "\n",
    "lb = FisherBiref(**args_1s).ls\n",
    "\n",
    "fisher_dict['1split eff'] = np.block([[np.sum(fisher_dict['1split'][0, 0]) , np.sum(fisher_dict['1split'][0, 1:])],\n",
    "                                    [np.sum(fisher_dict['1split'][1:, 0]) , np.sum(fisher_dict['1split'][1:, 1:])]])\n",
    "\n",
    "# prior = np.zeros_like((5, 5))\n",
    "# prior_index = 4\n",
    "# prior[prior_index, prior_index] += 0.1**-2 * ((180 / np.pi)**2)\n",
    "# np.sqrt(1 / np.sum(np.linalg.inv(cov_mat[1:, 1:])))\n",
    "\n",
    "cov_dict = {name: np.linalg.inv(fisher_mat) * (180 / np.pi)**2 for name, fisher_mat in fisher_dict.items()}\n",
    "\n",
    "sigmas_dict = {name: np.sqrt(cov_mat.diagonal()) for name, cov_mat in cov_dict.items()}\n",
    "\n",
    "sigmas_dict"
   ]
  }
 ],
 "metadata": {
  "kernelspec": {
   "display_name": "Python 3",
   "language": "python",
   "name": "python3"
  },
  "language_info": {
   "codemirror_mode": {
    "name": "ipython",
    "version": 3
   },
   "file_extension": ".py",
   "mimetype": "text/x-python",
   "name": "python",
   "nbconvert_exporter": "python",
   "pygments_lexer": "ipython3",
   "version": "3.9.6"
  }
 },
 "nbformat": 4,
 "nbformat_minor": 2
}
